{
 "cells": [
  {
   "cell_type": "markdown",
   "metadata": {},
   "source": [
    "# Multi-Armed Bandits"
   ]
  },
  {
   "cell_type": "code",
   "execution_count": 1,
   "metadata": {},
   "outputs": [],
   "source": [
    "import math\n",
    "import random\n",
    "import matplotlib.pyplot as plt"
   ]
  },
  {
   "cell_type": "code",
   "execution_count": 2,
   "metadata": {},
   "outputs": [],
   "source": [
    "class Action:\n",
    "    def __init__(self, mu, sigma):\n",
    "        self.mu = mu\n",
    "        self.sigma = sigma\n",
    "    \n",
    "    def perform(self):\n",
    "        return random.gauss(self.mu, self.sigma)"
   ]
  },
  {
   "cell_type": "code",
   "execution_count": 3,
   "metadata": {},
   "outputs": [],
   "source": [
    "class MultiArmedBandit:\n",
    "    def __init__(self, n_arms, epsilon, alpha, exploration_degree):\n",
    "        self.t = 0\n",
    "        self.n_arms = n_arms\n",
    "        self.epsilon = epsilon\n",
    "        self.alpha = alpha\n",
    "        self.exploration_degree = exploration_degree\n",
    "        self.actions = []\n",
    "        self.counts = [0] * n_arms\n",
    "        self.values = [0.0] * n_arms\n",
    "        for _ in range(n_arms):\n",
    "            self.actions.append(Action(random.uniform(0, 5), random.uniform(0, 1)))\n",
    "    \n",
    "    def argmax(self, x):\n",
    "        m = max(x)\n",
    "        return random.choice([i for i in range(len(x)) if x[i] == m])\n",
    "    \n",
    "    def select_action(self):\n",
    "        if random.random() > self.epsilon: # exploitation\n",
    "            ucb = [self.values[i] + self.exploration_degree * math.sqrt(math.log(self.t + 1e-10) / (self.counts[i] + 1e-10))\n",
    "                   for i in range(self.n_arms)]\n",
    "            return self.argmax(ucb)\n",
    "        else: # exploration\n",
    "            return random.randrange(self.n_arms)\n",
    "    \n",
    "    def update(self, action, reward):\n",
    "        # Q(k+1) = Q(k) + a * [R(k) - Q(k)]\n",
    "        self.values[action] += self.alpha * (reward - self.values[action])\n",
    "        self.counts[action] += 1\n",
    "    \n",
    "    def perform(self):\n",
    "        self.t += 1\n",
    "        action = self.select_action()\n",
    "        reward = self.actions[action].perform()\n",
    "        self.update(action, reward)\n",
    "        return reward"
   ]
  },
  {
   "cell_type": "code",
   "execution_count": 4,
   "metadata": {},
   "outputs": [],
   "source": [
    "def test(epsilon, time):\n",
    "    mab = MultiArmedBandit(10, epsilon, 0.2, 0.5)\n",
    "    rewards = [mab.perform()]\n",
    "    for t in range(1, time):\n",
    "        rewards.append((rewards[-1] * t + mab.perform()) / (t + 1))\n",
    "    return rewards"
   ]
  },
  {
   "cell_type": "code",
   "execution_count": 8,
   "metadata": {},
   "outputs": [
    {
     "data": {
      "image/png": "[encoded data removed]",
      "text/plain": [
       "<Figure size 432x288 with 1 Axes>"
      ]
     },
     "metadata": {
      "needs_background": "light"
     },
     "output_type": "display_data"
    }
   ],
   "source": [
    "time = 1000\n",
    "epsilons = [0, 0.01, 0.1]\n",
    "\n",
    "for e in epsilons:\n",
    "    plt.plot(range(time), test(e, time))\n",
    "\n",
    "plt.legend(epsilons)\n",
    "plt.show()"
   ]
  }
 ],
 "metadata": {
  "kernelspec": {
   "display_name": "Python 3",
   "language": "python",
   "name": "python3"
  },
  "language_info": {
   "codemirror_mode": {
    "name": "ipython",
    "version": 3
   },
   "file_extension": ".py",
   "mimetype": "text/x-python",
   "name": "python",
   "nbconvert_exporter": "python",
   "pygments_lexer": "ipython3",
   "version": "3.10.2"
  }
 },
 "nbformat": 4,
 "nbformat_minor": 2
}
