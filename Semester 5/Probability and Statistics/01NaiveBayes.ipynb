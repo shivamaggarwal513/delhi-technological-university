{
 "cells": [
  {
   "cell_type": "markdown",
   "metadata": {},
   "source": [
    "#### Naive Bayes Classifier"
   ]
  },
  {
   "cell_type": "code",
   "execution_count": 1,
   "metadata": {},
   "outputs": [],
   "source": [
    "import numpy as np\n",
    "import pandas as pd"
   ]
  },
  {
   "cell_type": "code",
   "execution_count": 2,
   "metadata": {},
   "outputs": [],
   "source": [
    "# A sample dataset to decide whether we watch a movie or not\n",
    "# based on the columns: genre, outlook, subtitles, language\n",
    "dataset = pd.read_csv('data.csv', header = 0)\n",
    "features = np.array(dataset.columns[:-1])"
   ]
  },
  {
   "cell_type": "code",
   "execution_count": 3,
   "metadata": {},
   "outputs": [
    {
     "name": "stdout",
     "output_type": "stream",
     "text": [
      "Dataset:\n",
      "      Genre   Outlook Subtitles Language Watch\n",
      "0    Action     Sunny       Yes  English    No\n",
      "1   Romance  Overcast        No    Hindi    No\n",
      "2   Romance  Overcast        No  English   Yes\n",
      "3    Comedy     Sunny       Yes    Hindi    No\n",
      "4    Comedy  Overcast       Yes  English    No\n",
      "5    Action     Rainy        No    Hindi    No\n",
      "6   Romance     Sunny       Yes  English   Yes\n",
      "7    Action     Rainy       Yes    Hindi   Yes\n",
      "8    Action  Overcast        No  English    No\n",
      "9   Romance     Sunny       Yes    Hindi    No\n",
      "10   Comedy     Rainy        No    Hindi   Yes\n",
      "11  Romance  Overcast       Yes    Hindi    No\n",
      "12   Comedy     Rainy        No  English   Yes\n",
      "13   Comedy  Overcast        No    Hindi   Yes\n"
     ]
    }
   ],
   "source": [
    "print('Dataset:', dataset, sep = '\\n')"
   ]
  },
  {
   "cell_type": "code",
   "execution_count": 4,
   "metadata": {},
   "outputs": [
    {
     "name": "stdout",
     "output_type": "stream",
     "text": [
      "Features: ['Genre' 'Outlook' 'Subtitles' 'Language']\n"
     ]
    }
   ],
   "source": [
    "print('Features:', features)"
   ]
  },
  {
   "cell_type": "code",
   "execution_count": 5,
   "metadata": {},
   "outputs": [],
   "source": [
    "def frequency_table(dataset: pd.DataFrame, feature: str) -> pd.DataFrame:\n",
    "    F = np.append(dataset[feature].unique(), 'Total')\n",
    "    Y = np.append(dataset.iloc[:, -1].unique(), 'Total')\n",
    "    table = pd.DataFrame(data = np.zeros((len(F), len(Y))), index = F, columns = Y, dtype = int)\n",
    "    for _, row in dataset.iterrows():\n",
    "        table[row[dataset.columns[-1]]][row[feature]] += 1\n",
    "        table[row[dataset.columns[-1]]]['Total'] += 1\n",
    "        table['Total'][row[feature]] += 1\n",
    "        table['Total']['Total'] += 1\n",
    "    return table"
   ]
  },
  {
   "cell_type": "code",
   "execution_count": 6,
   "metadata": {},
   "outputs": [],
   "source": [
    "tables = dict(zip(features, [frequency_table(dataset, f) for f in features]))"
   ]
  },
  {
   "cell_type": "code",
   "execution_count": 7,
   "metadata": {},
   "outputs": [
    {
     "name": "stdout",
     "output_type": "stream",
     "text": [
      "Frequency Tables: \n",
      "\n",
      "Genre: \n",
      "         No  Yes  Total\n",
      "Action    3    1      4\n",
      "Romance   3    2      5\n",
      "Comedy    2    3      5\n",
      "Total     8    6     14\n",
      "\n",
      "Outlook: \n",
      "          No  Yes  Total\n",
      "Sunny      3    1      4\n",
      "Overcast   4    2      6\n",
      "Rainy      1    3      4\n",
      "Total      8    6     14\n",
      "\n",
      "Subtitles: \n",
      "       No  Yes  Total\n",
      "Yes     5    2      7\n",
      "No      3    4      7\n",
      "Total   8    6     14\n",
      "\n",
      "Language: \n",
      "         No  Yes  Total\n",
      "English   3    3      6\n",
      "Hindi     5    3      8\n",
      "Total     8    6     14\n",
      "\n"
     ]
    }
   ],
   "source": [
    "print('Frequency Tables: \\n')\n",
    "for feature in tables:\n",
    "    print(f'{feature}: \\n{tables[feature]}\\n')"
   ]
  },
  {
   "cell_type": "code",
   "execution_count": 8,
   "metadata": {},
   "outputs": [],
   "source": [
    "def predict(test: pd.DataFrame) -> pd.DataFrame:\n",
    "    total, Y = 0, dataset.iloc[:, -1].unique()\n",
    "    result = pd.DataFrame(np.ones((len(Y), 1)), index = Y, columns = ['Probability'], dtype = float)\n",
    "    for y in Y:\n",
    "        for f in features:\n",
    "            result['Probability'][y] *= tables[f][y][test['Test'][f]] / tables[f][y]['Total']\n",
    "        total += result['Probability'][y]\n",
    "    for _, ry in result.iterrows():\n",
    "        ry['Probability'] /= total\n",
    "    return result"
   ]
  },
  {
   "cell_type": "code",
   "execution_count": 9,
   "metadata": {},
   "outputs": [],
   "source": [
    "test = pd.DataFrame(data = ['Action', 'Sunny', 'No', 'Hindi'], index = features, columns = ['Test'])\n",
    "pred = predict(test)"
   ]
  },
  {
   "cell_type": "code",
   "execution_count": 10,
   "metadata": {},
   "outputs": [
    {
     "name": "stdout",
     "output_type": "stream",
     "text": [
      "     Probability\n",
      "No      0.780681\n",
      "Yes     0.219319\n",
      "\n",
      "Prediction: No\n"
     ]
    }
   ],
   "source": [
    "print(pred)\n",
    "print('\\nPrediction:', pred['Probability'].idxmax())"
   ]
  }
 ],
 "metadata": {
  "kernelspec": {
   "display_name": "Python 3.10.2 64-bit",
   "language": "python",
   "name": "python3"
  },
  "language_info": {
   "codemirror_mode": {
    "name": "ipython",
    "version": 3
   },
   "file_extension": ".py",
   "mimetype": "text/x-python",
   "name": "python",
   "nbconvert_exporter": "python",
   "pygments_lexer": "ipython3",
   "version": "3.10.2"
  },
  "orig_nbformat": 4,
  "vscode": {
   "interpreter": {
    "hash": "f8515f652aada436dc6cad4258bc7ec76df1ff6504cd3cc602ea8e5ba9586a59"
   }
  }
 },
 "nbformat": 4,
 "nbformat_minor": 2
}
