{
 "cells": [
  {
   "cell_type": "markdown",
   "metadata": {},
   "source": [
    "#### Statistics in Python"
   ]
  },
  {
   "cell_type": "code",
   "execution_count": 1,
   "metadata": {},
   "outputs": [],
   "source": [
    "import numpy as np\n",
    "import pandas as pd\n",
    "import statistics as st\n",
    "from math import sqrt"
   ]
  },
  {
   "cell_type": "code",
   "execution_count": 2,
   "metadata": {},
   "outputs": [],
   "source": [
    "def mean(L) -> float:\n",
    "    return sum(L) / len(L)"
   ]
  },
  {
   "cell_type": "code",
   "execution_count": 3,
   "metadata": {},
   "outputs": [],
   "source": [
    "def median(L) -> float:\n",
    "    sl = sorted(L)\n",
    "    if len(L) % 2:\n",
    "        return sl[len(L) // 2]\n",
    "    else:\n",
    "        return (sl[(len(L) // 2 - 1)] + sl[len(L) // 2]) / 2"
   ]
  },
  {
   "cell_type": "code",
   "execution_count": 4,
   "metadata": {},
   "outputs": [],
   "source": [
    "def mode(L) -> float:\n",
    "    freq = {}\n",
    "    for x in L:\n",
    "        try:\n",
    "            freq[x] += 1\n",
    "        except KeyError:\n",
    "            freq[x] = 1\n",
    "    return max(freq, key = freq.get)"
   ]
  },
  {
   "cell_type": "code",
   "execution_count": 5,
   "metadata": {},
   "outputs": [],
   "source": [
    "def variance(L) -> float:\n",
    "    mu = mean(L)\n",
    "    return sum(map(lambda x: (x - mu) ** 2, L)) / len(L)"
   ]
  },
  {
   "cell_type": "code",
   "execution_count": 6,
   "metadata": {},
   "outputs": [],
   "source": [
    "def stdev(L) -> float:\n",
    "    return sqrt(variance(L))"
   ]
  },
  {
   "cell_type": "code",
   "execution_count": 7,
   "metadata": {},
   "outputs": [
    {
     "data": {
      "text/plain": [
       "array([89, 18,  6, 24, 66, 89, 54, 78, 26, 98, 60,  8, 97, 99, 42])"
      ]
     },
     "execution_count": 7,
     "metadata": {},
     "output_type": "execute_result"
    }
   ],
   "source": [
    "L = np.random.randint(0, 100, 15)\n",
    "L"
   ]
  },
  {
   "cell_type": "code",
   "execution_count": 8,
   "metadata": {},
   "outputs": [
    {
     "data": {
      "text/html": [
       "<div>\n",
       "<style scoped>\n",
       "    .dataframe tbody tr th:only-of-type {\n",
       "        vertical-align: middle;\n",
       "    }\n",
       "\n",
       "    .dataframe tbody tr th {\n",
       "        vertical-align: top;\n",
       "    }\n",
       "\n",
       "    .dataframe thead th {\n",
       "        text-align: right;\n",
       "    }\n",
       "</style>\n",
       "<table border=\"1\" class=\"dataframe\">\n",
       "  <thead>\n",
       "    <tr style=\"text-align: right;\">\n",
       "      <th></th>\n",
       "      <th>My function</th>\n",
       "      <th>Library function</th>\n",
       "    </tr>\n",
       "  </thead>\n",
       "  <tbody>\n",
       "    <tr>\n",
       "      <th>Mean</th>\n",
       "      <td>56.933333</td>\n",
       "      <td>56.000000</td>\n",
       "    </tr>\n",
       "    <tr>\n",
       "      <th>Median</th>\n",
       "      <td>60.000000</td>\n",
       "      <td>60.000000</td>\n",
       "    </tr>\n",
       "    <tr>\n",
       "      <th>Mode</th>\n",
       "      <td>89.000000</td>\n",
       "      <td>89.000000</td>\n",
       "    </tr>\n",
       "    <tr>\n",
       "      <th>Variance</th>\n",
       "      <td>1095.395556</td>\n",
       "      <td>1095.000000</td>\n",
       "    </tr>\n",
       "    <tr>\n",
       "      <th>St Dev</th>\n",
       "      <td>33.096760</td>\n",
       "      <td>33.090784</td>\n",
       "    </tr>\n",
       "  </tbody>\n",
       "</table>\n",
       "</div>"
      ],
      "text/plain": [
       "          My function  Library function\n",
       "Mean        56.933333         56.000000\n",
       "Median      60.000000         60.000000\n",
       "Mode        89.000000         89.000000\n",
       "Variance  1095.395556       1095.000000\n",
       "St Dev      33.096760         33.090784"
      ]
     },
     "execution_count": 8,
     "metadata": {},
     "output_type": "execute_result"
    }
   ],
   "source": [
    "table = pd.DataFrame(data = [[mean(L), st.mean(L)],\n",
    "                             [median(L), st.median(L)],\n",
    "                             [mode(L), st.mode(L)],\n",
    "                             [variance(L), st.pvariance(L)],\n",
    "                             [stdev(L), st.pstdev(L)]], \n",
    "                     index = ['Mean', 'Median', 'Mode', 'Variance', 'St Dev'], \n",
    "                     columns = ['My function', 'Library function'], \n",
    "                     dtype = float)\n",
    "table"
   ]
  }
 ],
 "metadata": {
  "kernelspec": {
   "display_name": "Python 3.10.2 64-bit",
   "language": "python",
   "name": "python3"
  },
  "language_info": {
   "codemirror_mode": {
    "name": "ipython",
    "version": 3
   },
   "file_extension": ".py",
   "mimetype": "text/x-python",
   "name": "python",
   "nbconvert_exporter": "python",
   "pygments_lexer": "ipython3",
   "version": "3.10.2"
  },
  "orig_nbformat": 4,
  "vscode": {
   "interpreter": {
    "hash": "f8515f652aada436dc6cad4258bc7ec76df1ff6504cd3cc602ea8e5ba9586a59"
   }
  }
 },
 "nbformat": 4,
 "nbformat_minor": 2
}
